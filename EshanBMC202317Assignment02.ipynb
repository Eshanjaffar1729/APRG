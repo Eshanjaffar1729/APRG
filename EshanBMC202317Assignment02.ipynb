{
  "nbformat": 4,
  "nbformat_minor": 0,
  "metadata": {
    "colab": {
      "provenance": [],
      "authorship_tag": "ABX9TyPvuxkQexnrfYQF0sJBrKWB",
      "include_colab_link": true
    },
    "kernelspec": {
      "name": "python3",
      "display_name": "Python 3"
    },
    "language_info": {
      "name": "python"
    }
  },
  "cells": [
    {
      "cell_type": "markdown",
      "metadata": {
        "id": "view-in-github",
        "colab_type": "text"
      },
      "source": [
        "<a href=\"https://colab.research.google.com/github/Eshanjaffar1729/APRG/blob/main/EshanBMC202317Assignment02.ipynb\" target=\"_parent\"><img src=\"https://colab.research.google.com/assets/colab-badge.svg\" alt=\"Open In Colab\"/></a>"
      ]
    },
    {
      "cell_type": "markdown",
      "source": [
        "**Defining the Deque**"
      ],
      "metadata": {
        "id": "eTXdAOGHi_l6"
      }
    },
    {
      "cell_type": "code",
      "execution_count": null,
      "metadata": {
        "id": "XZhfm08IApSF"
      },
      "outputs": [],
      "source": [
        "class Deque:\n",
        "  def __init__(self):\n",
        "  # Implementing data structure initialization\n",
        "    self.data = []\n",
        "\n",
        "  def size(self):\n",
        "    return len(self.data)\n",
        "\n",
        "  def insert(self , item , location='front'):\n",
        "    # Implementing insertion to the front\n",
        "    if location == 'back':\n",
        "      self.data.append(item)\n",
        "\n",
        "    #Implementing insertion to the back\n",
        "    elif location =='front':\n",
        "      self.data = [item] + self.data # self.data.insert(0,item)\n",
        "    else:\n",
        "      pass\n",
        "\n",
        "\n",
        "  def delete(self ,location='front'):\n",
        "    if self.size() > 0:\n",
        "      # Implementing deletion from the front\n",
        "      if location == 'front':\n",
        "        val = self.data[0]\n",
        "        self.data = self.data[1:]\n",
        "        return val\n",
        "\n",
        "      # Implementing deletion from the back\n",
        "      elif location == 'back':\n",
        "        val = self.data[-1]\n",
        "        self.data = self.data[:-1]\n",
        "        return val\n",
        "\n",
        "      else:\n",
        "        pass\n",
        "    else:\n",
        "      print(\"Insufficient elements in Deque\")\n",
        "\n",
        "  def is_empty(self):\n",
        "  # Checking if the deque is empty, i.e wether it has zero elemts\n",
        "    return (self.size() == 0)\n",
        "\n",
        "\n",
        "  def peek(self , location='front'):\n",
        "    if self.size() >0:\n",
        "      if location == 'front':\n",
        "        return self.data[0]\n",
        "      elif location == 'back' :\n",
        "        return self.data[-1]\n",
        "    else:\n",
        "      print(\"Insufficient elements in the Deque\")"
      ]
    },
    {
      "cell_type": "markdown",
      "source": [
        "**Defining the Class Song**"
      ],
      "metadata": {
        "id": "VNUL9IE2jHZ3"
      }
    },
    {
      "cell_type": "code",
      "source": [
        "class Song:\n",
        "  def __init__(self , album_name , song_name , artist):\n",
        "    self.album_name = album_name\n",
        "    self.song_name = song_name\n",
        "    self.artist = artist\n",
        "\n",
        "  def __str__(self):\n",
        "    #Returns a string representation of the song in a user -friendly format as below\n",
        "    return f\"Album: {self.album_name}, Song: {self.song_name}, Artist: {self.artist }\"\n",
        "\n",
        "  def data(self):\n",
        "    #returns the data associating with an instance of Song\n",
        "    return f\"Album: {self.album_name}, Song: {self.song_name}, Artist: {self.artist }\""
      ],
      "metadata": {
        "id": "h0PCFoROC9wK"
      },
      "execution_count": null,
      "outputs": []
    },
    {
      "cell_type": "markdown",
      "source": [
        "**Defining the Playlist Class**"
      ],
      "metadata": {
        "id": "SkJxk-BkjKxL"
      }
    },
    {
      "cell_type": "code",
      "source": [
        "class Playlist:\n",
        "  def __init__(self):\n",
        "    self.playlist = Deque()\n",
        "\n",
        "  def add_song(self , song):\n",
        "    #adds a song to the end of the plalist\n",
        "    self.playlist.insert(song,location=\"back\")\n",
        "\n",
        "  def remove_song(self , song):\n",
        "    # Implement removal based on song location\n",
        "    if song in self.playlist.data:\n",
        "      self.playlist.data.remove(song)\n",
        "    else:\n",
        "      print(\"Song Not found in the Playlist\")\n",
        "\n",
        "  def play_current_song (self):\n",
        "    # Print the playing current_song attributes\n",
        "    print(self.playlist.peek(location=\"front\"))\n",
        "\n",
        "  def play_next_song(self):\n",
        "    if self.is_empty():\n",
        "      #shift the song to the front of the queue and\n",
        "      print(\"Insufficient Songs in the Playlist\")\n",
        "    else:\n",
        "      current_song = self.playlist.data[0]\n",
        "      self.playlist.data = self.playlist.data[1:] + [current_song]\n",
        "      print(self.playlist.data[0])\n",
        "\n",
        "\n",
        "  def play_previous_song (self):\n",
        "    #checks if the playlist has at least 2 songs\n",
        "    if len(self.playlist.data) > 1:\n",
        "      previous_song = self.playlist.data[-1]\n",
        "      current_song = self.playlist.data[0]\n",
        "      self.playlist.data = [previous_song] + self.playlist.data[1:-1] + [current_song]\n",
        "    elif len(self.playlist.data) ==1:\n",
        "      print(\"The Playlist has just one song, current song is previous song\")\n",
        "    else:\n",
        "      print(\"Insufficient songs in the playlist\")\n",
        "\n",
        "  def is_empty(self):\n",
        "    return self.playlist.is_empty()\n",
        "\n",
        "  def get_current_song_info(self):\n",
        "    return self.playlist.peek(location='front')\n",
        "\n",
        "\n",
        "\n",
        "  def print(self):\n",
        "    #Printing the data associated with a given song_name\n",
        "    count = 1\n",
        "    print(f\"{'Index' : <20}{'Album Name' : <20}{'Song Name' : <20}{'Artist' : <20}\")\n",
        "    for song in self.playlist.data:\n",
        "      print(f\"{count:<20}{song.album_name:<20}{song.song_name:<20}{song.artist:<20}\")\n",
        "      count +=1\n",
        "\n",
        "  def get_all_songs_info(self):\n",
        "    #prints all the songs in the playlist\n",
        "    for song in self.playlist.data:\n",
        "      print(song)\n",
        "    #returns the list of all songs in the playlist\n",
        "    return self.playlist.data\n"
      ],
      "metadata": {
        "id": "mKsbcK7LEGl7"
      },
      "execution_count": null,
      "outputs": []
    },
    {
      "cell_type": "markdown",
      "source": [
        "**Testing the Code with Some Simple Test Cases**"
      ],
      "metadata": {
        "id": "FCe4bnlGjTX6"
      }
    },
    {
      "cell_type": "code",
      "source": [
        "#Some test Cases\n",
        "s1 = Song(\"Thriller\",\"Dangerous\",\"Michael Jackson\")\n",
        "s2 = Song(\"Rynti M Remix\",\"nanpasu\",\"Renge Miyauchi\")\n",
        "s3 = Song(\"Covers(21)\",\"Blue Bird\",\"Pellek\")\n",
        "\n",
        "\n",
        "#initialising object pl of class Playlist\n",
        "pl = Playlist()\n",
        "\n",
        "\n",
        "#adding 3 songs s1,s2,s3 to the Playlist\n",
        "pl.add_song(s1)\n",
        "pl.add_song(s2)\n",
        "pl.add_song(s3)\n",
        "\n",
        "#printing the formatted list of all songs\n",
        "pl.print()\n",
        "print()\n",
        "\n",
        "#removing the song s1 from the playlist\n",
        "pl.remove_song(s1)\n",
        "pl.print()\n",
        "print()\n",
        "\n",
        "#playing the current song in the playlist\n",
        "pl.play_current_song()\n",
        "print()\n",
        "\n",
        "#adding a new song to the playlist\n",
        "pl.add_song(s1)\n",
        "pl.print()\n",
        "print()\n",
        "\n",
        "#playing the next song in the playlist\n",
        "pl.play_next_song()\n",
        "print()\n",
        "pl.print()\n",
        "print()\n",
        "\n",
        "#playing the previous song in the playlist\n",
        "pl.play_previous_song()\n",
        "print()\n",
        "pl.print()\n",
        "print()\n",
        "\n",
        "#checking if the playlist is empty\n",
        "print(pl.is_empty())\n",
        "print()\n",
        "\n",
        "#getting the current song information from the playlist\n",
        "print(pl.get_current_song_info())\n",
        "print()\n",
        "\n",
        "#getting all song information from the playlist\n",
        "print(pl.get_all_songs_info())\n",
        "print()"
      ],
      "metadata": {
        "colab": {
          "base_uri": "https://localhost:8080/"
        },
        "id": "N7tcERJBtzoF",
        "outputId": "3b255c80-74eb-435c-fad4-3a7b8aee84c7"
      },
      "execution_count": null,
      "outputs": [
        {
          "output_type": "stream",
          "name": "stdout",
          "text": [
            "Index               Album Name          Song Name           Artist              \n",
            "1                   Thriller            Dangerous           Michael Jackson     \n",
            "2                   Rynti M Remix       nanpasu             Renge Miyauchi      \n",
            "3                   Covers(21)          Blue Bird           Pellek              \n",
            "\n",
            "Index               Album Name          Song Name           Artist              \n",
            "1                   Rynti M Remix       nanpasu             Renge Miyauchi      \n",
            "2                   Covers(21)          Blue Bird           Pellek              \n",
            "\n",
            "Album: Rynti M Remix, Song: nanpasu, Artist: Renge Miyauchi\n",
            "\n",
            "Index               Album Name          Song Name           Artist              \n",
            "1                   Rynti M Remix       nanpasu             Renge Miyauchi      \n",
            "2                   Covers(21)          Blue Bird           Pellek              \n",
            "3                   Thriller            Dangerous           Michael Jackson     \n",
            "\n",
            "Album: Covers(21), Song: Blue Bird, Artist: Pellek\n",
            "\n",
            "Index               Album Name          Song Name           Artist              \n",
            "1                   Covers(21)          Blue Bird           Pellek              \n",
            "2                   Thriller            Dangerous           Michael Jackson     \n",
            "3                   Rynti M Remix       nanpasu             Renge Miyauchi      \n",
            "\n",
            "\n",
            "Index               Album Name          Song Name           Artist              \n",
            "1                   Rynti M Remix       nanpasu             Renge Miyauchi      \n",
            "2                   Thriller            Dangerous           Michael Jackson     \n",
            "3                   Covers(21)          Blue Bird           Pellek              \n",
            "\n",
            "False\n",
            "\n",
            "Album: Rynti M Remix, Song: nanpasu, Artist: Renge Miyauchi\n",
            "\n",
            "Album: Rynti M Remix, Song: nanpasu, Artist: Renge Miyauchi\n",
            "Album: Thriller, Song: Dangerous, Artist: Michael Jackson\n",
            "Album: Covers(21), Song: Blue Bird, Artist: Pellek\n",
            "[<__main__.Song object at 0x7eb2506d8e50>, <__main__.Song object at 0x7eb2506d87c0>, <__main__.Song object at 0x7eb2506db9d0>]\n",
            "\n"
          ]
        }
      ]
    }
  ]
}